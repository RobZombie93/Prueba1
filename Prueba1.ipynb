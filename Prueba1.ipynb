{
    "cells": [
        {
            "cell_type": "markdown",
            "metadata": {
                "collapsed": true
            },
            "source": "Prueba numero 1 para GitHub y IBM Watson Studio"
        },
        {
            "cell_type": "markdown",
            "metadata": {},
            "source": "The purpose of this cell is to be a markdown cell and show some text, and the purpose of this whole Jupyter Notebook is to be shared publicly as a test.\n\nthis Notebook was also uploaded on GitHub.\n"
        }
    ],
    "metadata": {
        "kernelspec": {
            "display_name": "Python 3.8",
            "language": "python",
            "name": "python3"
        },
        "language_info": {
            "codemirror_mode": {
                "name": "ipython",
                "version": 3
            },
            "file_extension": ".py",
            "mimetype": "text/x-python",
            "name": "python",
            "nbconvert_exporter": "python",
            "pygments_lexer": "ipython3",
            "version": "3.8.12"
        }
    },
    "nbformat": 4,
    "nbformat_minor": 1
}