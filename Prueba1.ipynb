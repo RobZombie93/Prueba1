{
    "cells": [
        {
            "cell_type": "markdown",
            "metadata": {
                "collapsed": true
            },
            "source": "# My Jupyter Notebook on Watson IBM Studio"
        },
        {
            "cell_type": "markdown",
            "metadata": {},
            "source": "My name is **Mario Vargas**\nMy desired occupation would be a scheduler (on where I currently work at)"
        },
        {
            "cell_type": "markdown",
            "metadata": {},
            "source": "*I am interested in data science because it looks like a way to work with data and be able to analyze it and provide estimate and better results when processing it correctly*"
        },
        {
            "cell_type": "markdown",
            "metadata": {},
            "source": "### My code on Cell 5 is supposed to only add 1 and 1 together"
        },
        {
            "cell_type": "code",
            "execution_count": 1,
            "metadata": {},
            "outputs": [
                {
                    "data": {
                        "text/plain": "2"
                    },
                    "execution_count": 1,
                    "metadata": {},
                    "output_type": "execute_result"
                }
            ],
            "source": "1+1"
        },
        {
            "cell_type": "markdown",
            "metadata": {},
            "source": "GitHub Logo on inline-style: \n![alt text](https://github.com/adam-p/markdown-here/raw/master/src/common/images/icon48.png \"GitHub Logo\")\n\n[Click to go to google](https://www.google.com)\n\nand this is the end\n\n***"
        }
    ],
    "metadata": {
        "kernelspec": {
            "display_name": "Python 3.8",
            "language": "python",
            "name": "python3"
        },
        "language_info": {
            "codemirror_mode": {
                "name": "ipython",
                "version": 3
            },
            "file_extension": ".py",
            "mimetype": "text/x-python",
            "name": "python",
            "nbconvert_exporter": "python",
            "pygments_lexer": "ipython3",
            "version": "3.8.12"
        }
    },
    "nbformat": 4,
    "nbformat_minor": 1
}